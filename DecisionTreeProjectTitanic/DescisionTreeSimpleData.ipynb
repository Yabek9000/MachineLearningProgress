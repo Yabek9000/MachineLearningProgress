{
 "cells": [
  {
   "cell_type": "code",
   "execution_count": 109,
   "id": "de6f7ab0",
   "metadata": {},
   "outputs": [],
   "source": [
    "import pandas as pd\n",
    "import numpy as np\n",
    "from collections import Counter\n",
    "from sklearn.model_selection import train_test_split\n",
    "\n",
    "df = pd.read_csv(\"TennisLearningData.csv\")\n",
    "features = [\"Weather\",\"Temperature\"]\n",
    "X = df[features].copy()\n",
    "y = df[\"Play\"].copy()\n",
    "\n",
    "X_train, X_test, y_train, y_test = train_test_split(\n",
    "    X, y, test_size=0.42312, random_state=42\n",
    ")\n",
    "\n",
    "# Index of feature columns\n",
    "weather_index = \"Weather\"\n",
    "temperature_index = \"Temperature\"\n"
   ]
  },
  {
   "attachments": {
    "image.png": {
     "image/png": "[encoded data removed]"
    }
   },
   "cell_type": "markdown",
   "id": "53c85fd0",
   "metadata": {},
   "source": [
    "# Entropy\n",
    "\n",
    "The formula for entropy is\n",
    "\n",
    "\n",
    "![image.png](attachment:image.png)"
   ]
  },
  {
   "cell_type": "code",
   "execution_count": 110,
   "id": "68a3906e",
   "metadata": {},
   "outputs": [
    {
     "data": {
      "text/plain": [
       "0.32731359562136586"
      ]
     },
     "execution_count": 110,
     "metadata": {},
     "output_type": "execute_result"
    }
   ],
   "source": [
    "def calc_entropy(X):\n",
    "    count = np.array(list(Counter(X).values()))\n",
    "    p = count/count.sum()\n",
    "    return -np.sum(p*np.log2(p))\n",
    "\n",
    "def calc_weightedentropy(X,y):\n",
    "    # X is parent, y is child.\n",
    "    weight_entropy = 0\n",
    "    unique = np.unique(X)\n",
    "\n",
    "    for val in unique:\n",
    "        subset = y[X == val]\n",
    "        w = len(subset)/len(y)\n",
    "        weight_entropy += w * calc_entropy(subset)\n",
    "    \n",
    "    return weight_entropy\n",
    "\n",
    "calc_entropy(y_train)\n",
    "calc_weightedentropy(X_train[weather_index], y_train)"
   ]
  },
  {
   "cell_type": "code",
   "execution_count": 111,
   "id": "3b3cce7e",
   "metadata": {},
   "outputs": [
    {
     "name": "stdout",
     "output_type": "stream",
     "text": [
      "Weather 1.252310507402361\n"
     ]
    }
   ],
   "source": [
    "def calc_informationGain(y,X):\n",
    "    # X is parent, y is child.\n",
    "    return calc_entropy(y) - calc_weightedentropy(y,X)\n",
    "\n",
    "best_feature,index = None,0\n",
    "best_information_gain = 0\n",
    "num_featuers = X.shape[1]\n",
    "\n",
    "for feature in features:\n",
    "    ig = calc_informationGain(X_train[feature],y_train)\n",
    "\n",
    "    if ig > best_information_gain:\n",
    "        best_information_gain = ig\n",
    "        best_feature = feature\n",
    "\n",
    "# Root node of descision tree\n",
    "print(best_feature,best_information_gain)\n"
   ]
  },
  {
   "cell_type": "code",
   "execution_count": 112,
   "id": "77a861d0",
   "metadata": {},
   "outputs": [
    {
     "name": "stdout",
     "output_type": "stream",
     "text": [
      "Accuracy: 0.9534883720930233\n"
     ]
    }
   ],
   "source": [
    "class treeNode:\n",
    "    def __init__(self, feature=None, label=None):\n",
    "        self.feature = feature    \n",
    "        self.label = label        \n",
    "        self.children = {}        \n",
    "\n",
    "def build_tree(X, y, features):\n",
    "    \n",
    "    # No more unique target values, we reached a leaf node.\n",
    "    if len(np.unique(y)) == 1:\n",
    "        return treeNode(label=np.unique(y)[0])\n",
    "    \n",
    "    # No more features to split on, get most common and use that as label\n",
    "    if len(features) == 0:\n",
    "        most_common_label = Counter(y).most_common(1)[0][0]\n",
    "        return treeNode(label=most_common_label)\n",
    "    \n",
    "    # Find best feature\n",
    "    best_information_gain = -1\n",
    "    best_feature = None\n",
    "    for feature in features:\n",
    "        ig = calc_informationGain(y, X[feature])\n",
    "        if ig > best_information_gain:\n",
    "            best_information_gain = ig\n",
    "            best_feature = feature\n",
    "    \n",
    "    node = treeNode(feature=best_feature)\n",
    "\n",
    "    # Split\n",
    "\n",
    "    for val in X[best_feature].unique():\n",
    "        mask = X[best_feature] == val # for a certian value in a feature, split on that.\n",
    "        subset_X = X[mask].drop(columns=[best_feature])\n",
    "        subset_y = y[mask]\n",
    "        remaining_features = [f for f in features if f != best_feature]\n",
    "        node.children[val] = build_tree(subset_X, subset_y, remaining_features)\n",
    "    \n",
    "    return node\n",
    "\n",
    "def predict(node, sample):\n",
    "    while node.label is None:\n",
    "        val = sample[node.feature]\n",
    "        if val in node.children:\n",
    "            node = node.children[val]\n",
    "        else:\n",
    "            labels = [child.label for child in node.children.values() if child.label is not None]\n",
    "            return Counter(labels).most_common(1)[0][0]\n",
    "    return node.label\n",
    "\n",
    "root = build_tree(X_train, y_train, features)\n",
    "\n",
    "preds = [predict(root, row) for _, row in X_test.iterrows()]\n",
    "my_acc = np.mean(preds == y_test)\n",
    "print(\"Accuracy:\", my_acc)\n",
    "\n"
   ]
  },
  {
   "cell_type": "markdown",
   "id": "279f031d",
   "metadata": {},
   "source": [
    "# Version with scikit-learn \n"
   ]
  },
  {
   "cell_type": "code",
   "execution_count": 113,
   "id": "5acfc213",
   "metadata": {},
   "outputs": [
    {
     "name": "stdout",
     "output_type": "stream",
     "text": [
      "accuracy: 0.9534883720930233\n"
     ]
    }
   ],
   "source": [
    "from sklearn import tree\n",
    "from sklearn.preprocessing import LabelEncoder\n",
    "from sklearn.model_selection import train_test_split\n",
    "from sklearn.metrics import accuracy_score\n",
    "\n",
    "df = pd.read_csv(\"TennisLearningData.csv\")\n",
    "features = [\"Weather\",\"Temperature\"]\n",
    "X = df[features].copy()\n",
    "y = df[\"Play\"].copy()\n",
    "\n",
    "X_train, X_test, y_train, y_test = train_test_split(\n",
    "    X, y, test_size=0.42312, random_state=42\n",
    ")\n",
    "\n",
    "# Encode features/target values into numerical values, as tree requires them\n",
    "for col in X_train.columns:\n",
    "    le = LabelEncoder()\n",
    "    X_train[col] = le.fit_transform(X_train[col])\n",
    "    X_test[col] = le.transform(X_test[col])\n",
    "\n",
    "\n",
    "target_le = LabelEncoder()\n",
    "y_train_encoded = target_le.fit_transform(y_train)\n",
    "y_test_encoded = target_le.transform(y_test)\n",
    "\n",
    "\n",
    "# Train tree\n",
    "clf = tree.DecisionTreeClassifier()\n",
    "clf.fit(X_train, y_train_encoded)\n",
    "\n",
    "pred = clf.predict(X_test)\n",
    "\n",
    "sklearnaccuracy = accuracy_score(y_test_encoded, pred)\n",
    "print(\"accuracy:\", sklearnaccuracy)\n",
    "\n"
   ]
  },
  {
   "cell_type": "code",
   "execution_count": 114,
   "id": "0217a341",
   "metadata": {},
   "outputs": [
    {
     "name": "stdout",
     "output_type": "stream",
     "text": [
      "0.0\n",
      "0.0\n",
      "Equal\n"
     ]
    },
    {
     "data": {
      "image/png": "[encoded data removed]",
      "text/plain": [
       "<Figure size 640x480 with 1 Axes>"
      ]
     },
     "metadata": {},
     "output_type": "display_data"
    }
   ],
   "source": [
    "\n",
    "\n",
    "print(abs(sklearnaccuracy-my_acc))\n",
    "print(abs(sklearnaccuracy-my_acc)/(sklearnaccuracy*100))\n",
    "print(\"Equal\" if abs(sklearnaccuracy-my_acc) == 0 else \"Not equal\")\n",
    "import matplotlib.pyplot as plt\n",
    "\n",
    "plt.bar([\"My Tree\", \"Sklearn Tree\"], [my_acc, sklearnaccuracy], color=[\"purple\", \"orange\"])\n",
    "plt.ylabel(\"Accuracy\")\n",
    "plt.title(\"My Tree vs Sklearn Tree\")\n",
    "plt.show()"
   ]
  }
 ],
 "metadata": {
  "kernelspec": {
   "display_name": "base",
   "language": "python",
   "name": "python3"
  },
  "language_info": {
   "codemirror_mode": {
    "name": "ipython",
    "version": 3
   },
   "file_extension": ".py",
   "mimetype": "text/x-python",
   "name": "python",
   "nbconvert_exporter": "python",
   "pygments_lexer": "ipython3",
   "version": "3.12.3"
  }
 },
 "nbformat": 4,
 "nbformat_minor": 5
}
