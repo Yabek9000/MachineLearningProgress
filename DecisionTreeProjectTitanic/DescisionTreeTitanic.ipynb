{
 "cells": [
  {
   "cell_type": "markdown",
   "id": "62d860b6",
   "metadata": {},
   "source": []
  },
  {
   "cell_type": "markdown",
   "id": "226937ea",
   "metadata": {},
   "source": [
    "# SKLEARN ONLY\n",
    "As I already implement one manualy, this will only be sklearn\n",
    "https://www.kaggle.com/competitions/titanic/data?select=test.csv\n",
    "\n",
    "Score: 0.77272 (max_depth = 5)\n",
    "Score: 0.75598 (max_depth=10,criterion=\"entropy\")\n",
    "Score: 0.77511 (max_depth=4,criterion=\"entropy\")"
   ]
  },
  {
   "cell_type": "code",
   "execution_count": null,
   "id": "74fc4315",
   "metadata": {},
   "outputs": [
    {
     "name": "stdout",
     "output_type": "stream",
     "text": [
      "[0 0 0 0 1 0 1 0 1 0 0 0 1 0 1 1 0 0 1 0 0 1 1 0 1 0 1 0 0 0 0 0 1 0 0 0 1\n",
      " 1 0 0 0 0 0 1 1 0 0 0 1 1 0 0 1 1 0 0 0 0 0 1 0 0 0 1 1 1 1 0 0 1 1 0 1 0\n",
      " 1 0 0 1 0 1 1 0 0 0 0 0 1 1 1 1 1 0 1 0 0 0 1 0 1 0 1 0 0 0 1 0 0 0 0 0 0\n",
      " 1 1 1 1 0 0 1 0 1 1 0 1 0 0 1 0 1 0 0 0 0 0 0 0 0 0 0 1 0 0 1 0 0 0 0 0 0\n",
      " 0 0 1 0 0 1 0 0 1 1 0 1 1 1 1 0 0 1 0 0 1 1 0 0 0 0 0 1 1 0 1 1 0 0 1 0 1\n",
      " 0 1 0 0 0 0 0 1 0 1 0 1 1 0 1 1 1 0 1 0 0 1 0 1 0 0 0 0 1 0 0 1 0 1 0 1 0\n",
      " 1 0 1 1 0 1 0 0 0 1 0 0 0 0 0 0 1 1 1 1 0 0 0 0 1 0 1 1 1 0 0 0 0 0 0 0 1\n",
      " 0 0 0 1 1 0 0 0 0 1 0 0 0 1 1 0 1 0 0 0 0 1 1 1 1 1 0 0 0 0 0 0 1 0 0 0 0\n",
      " 0 0 0 0 0 0 0 0 1 1 0 1 0 0 0 0 0 0 1 1 0 0 0 0 0 0 0 0 1 0 1 0 0 0 1 0 0\n",
      " 1 0 0 0 0 0 0 0 0 0 1 0 1 0 0 0 1 1 0 0 0 1 0 1 0 0 1 0 1 1 0 1 0 0 1 1 0\n",
      " 0 1 0 0 1 1 1 0 0 0 0 0 1 1 0 1 0 0 0 0 0 1 1 0 0 1 0 1 0 0 1 0 1 0 0 0 0\n",
      " 0 1 1 1 1 1 0 1 0 0 0]\n"
     ]
    }
   ],
   "source": [
    "import numpy as np\n",
    "import pandas as pd\n",
    "from sklearn import tree\n",
    "from sklearn.preprocessing import LabelEncoder\n",
    "from sklearn.metrics import accuracy_score\n",
    "\n",
    "dp = pd.read_csv(\"train.csv\")\n",
    "test = pd.read_csv(\"test.csv\")\n",
    "\n",
    "\n",
    "features = [\"Pclass\",\"Sex\",\"Age\",\"SibSp\",\"Parch\",\"Fare\",\"Embarked\"]\n",
    "X_train = dp[features].copy()\n",
    "y_train = dp[\"Survived\"].copy()\n",
    "\n",
    "X_test = test[features].copy()\n",
    "\n",
    "\n",
    "# Missing values\n",
    "X_train[\"Age\"] = X_train[\"Age\"].fillna(X_train[\"Age\"].median())\n",
    "X_train[\"Embarked\"] = X_train[\"Embarked\"].fillna(\"S\")\n",
    "\n",
    "X_test[\"Age\"] = X_test[\"Age\"].fillna(X_test[\"Age\"].median())\n",
    "X_test[\"Embarked\"] = X_test[\"Embarked\"].fillna(\"S\")\n",
    "\n",
    "# Non-numerical values, need to encode it.\n",
    "\n",
    "for col in [\"Sex\",\"Embarked\"]:\n",
    "    le = LabelEncoder()\n",
    "    X_train[col] = le.fit_transform(X_train[col])\n",
    "    X_test[col] = le.fit_transform(X_test[col])\n",
    "\n",
    "target_LE = LabelEncoder()\n",
    "y_train = target_LE.fit_transform(y_train)\n",
    "\n",
    "clf = tree.DecisionTreeClassifier(max_depth=10,criterion=\"entropy\")\n",
    "clf.fit(X_train,y_train)\n",
    "\n",
    "pred = clf.predict(X_test)\n",
    "\n",
    "output = pd.DataFrame({\n",
    "    \"PassengerId\": test[\"PassengerId\"],\n",
    "    \"Survived\": pred\n",
    "})\n",
    "\n",
    "# output.to_csv(\"submission.csv\", index=False)\n",
    "\n",
    "print(pred)\n",
    "\n"
   ]
  }
 ],
 "metadata": {
  "kernelspec": {
   "display_name": "base",
   "language": "python",
   "name": "python3"
  },
  "language_info": {
   "codemirror_mode": {
    "name": "ipython",
    "version": 3
   },
   "file_extension": ".py",
   "mimetype": "text/x-python",
   "name": "python",
   "nbconvert_exporter": "python",
   "pygments_lexer": "ipython3",
   "version": "3.12.3"
  }
 },
 "nbformat": 4,
 "nbformat_minor": 5
}
